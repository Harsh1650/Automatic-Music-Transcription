{
 "cells": [
  {
   "cell_type": "markdown",
   "metadata": {},
   "source": [
    "# MUSIC REPRESENTATIONS #\n",
    "Hey! Let us dive into the music world. After reading the first chapter from the book - **Fundamentals Of Music Processing by Meinard Müller**, it is now time to start implementing the knowledge that you have gained from the book. \n",
    "\n"
   ]
  },
  {
   "cell_type": "markdown",
   "metadata": {},
   "source": [
    "## Notes & Pitch ##\n",
    "\n",
    "## Question 1 ##\n",
    "\n",
    "Complete the code for the following function which generates an array of sinusoids for a given list of MIDI pitches and also generates values on time axis in the form of time array. Recall that the MIDI note number is an integer between 0 and 127. MIDI note numbers encode, in increasing order, the musical pitches C0 to G#9. For example, note C4 has the MIDI note number 60, whereas the concert pitch A4 has the MIDI note number 69.\n",
    "\n",
    "PS- I have used **IPython.display** library as written below, Your task is to find out its function and then comment it down in the code. \n"
   ]
  },
  {
   "cell_type": "code",
   "execution_count": 3,
   "metadata": {},
   "outputs": [],
   "source": [
    "import numpy as np\n",
    "import IPython.display as ipd #Write down its function\n",
    "def create_sinusoid(pitches = ,Sampling_rate = ,duration = , amplitude = ): # set their default values\n",
    "      \"\"\"\n",
    "    Input:\n",
    "        pitches (list): List of MIDI pitches \n",
    "        Duration (in seconds): of each sinusoid \n",
    "    Returns:\n",
    "        x (np.ndarray): Signal\n",
    "        t (np.ndarray): Time axis (in seconds)\n",
    "      \"\"\"\n",
    "        \n",
    "        \n",
    "        \n",
    "    ## COMPLETE THE CODE\n",
    "      \n",
    "    \n",
    "    return x,t\n"
   ]
  },
  {
   "cell_type": "markdown",
   "metadata": {},
   "source": [
    "### Section 1.1 ###"
   ]
  },
  {
   "cell_type": "code",
   "execution_count": null,
   "metadata": {},
   "outputs": [],
   "source": [
    "\n",
    "duration =   # Set the values on your own so that you get a fascinating ouput\n",
    "amplitude = \n",
    "Sampling_rate = \n",
    "pitches = []  # Set the values for [A1,A2,A3,A4,A5,A6,A7]  # Can reset the values to check results for other pitches.\n",
    "x,t = \n",
    "ipd.display(ipd.Audio(data=x, rate=Sampling_rate))"
   ]
  },
  {
   "cell_type": "markdown",
   "metadata": {},
   "source": [
    "### Section 1.2 ###\n"
   ]
  },
  {
   "cell_type": "markdown",
   "metadata": {},
   "source": [
    "![](g_major_scale.png)\n",
    "<img src= \"g_major_scale.png\" width= \"350\"/> \n",
    "\n",
    "\n",
    "In order to describe music using a finite number of symbols, one needs to discretize the space of all possible pitches. This leads to the notion of a musical scale, which can be thought of as a finite set of representative pitches.\n",
    "Generate G major and G minor scale using the above **create_sinusoid** function."
   ]
  },
  {
   "cell_type": "code",
   "execution_count": null,
   "metadata": {},
   "outputs": [],
   "source": [
    "#Section 1.2 code"
   ]
  },
  {
   "cell_type": "markdown",
   "metadata": {},
   "source": [
    "### Section 1.3 ###\n",
    "### \"HAPPY BIRTHDAYY TO YOUUU...HAPPYY BIRTHDAYYY TOO YOUUU..........\" ###\n",
    "\n",
    "We always wanted to sing **Happy Birthday** song on our parents', friends' birthday events. Guess what? Now you can definitely do that - without using guitar/piano/any instrument - no matter how ugly you sing - by just writing a few lines of code. Well, you will definitely become a rockstart if you are able to do this...\n",
    "Hint : Use the same function as above, and you will succeed. \n",
    "\n",
    "PS - Those who have not played any musical instrument before should search for the paino notes of the **Happy Birthday** song..\n"
   ]
  },
  {
   "cell_type": "code",
   "execution_count": null,
   "metadata": {},
   "outputs": [],
   "source": [
    "# Section 1.3 code"
   ]
  },
  {
   "cell_type": "markdown",
   "metadata": {},
   "source": [
    "## Piano Roll Representation ##\n",
    "As defined in the book, a piano-roll representation is understood to be a geometric visualization of the note information as specified by a piano roll. The horizontal axis of this two-dimensional representation encodes time, whereas the vertical axis encodes pitch. Every note is described by an axis-parallel rectangle coding three parameters. The first parameter is the onset time, given by the leftmost horizontal coordinate of the rectangle, and the second is the pitch, given by the lower vertical coordinate of the rectangle. Finally, the third parameter is the duration of the note, encoded by the width of the rectangle.\n",
    "\n",
    "The major task of our project is to be successfully able to pre-process the audio file containing instrumental music and create transcription for the same. Now, Piano roll representation is a very important form of music representation which you must have studied from the book. \n",
    "In order to help you get a visualization for the same, here is a video clipping which will help you realise how beautiful this representation is. \n"
   ]
  },
  {
   "cell_type": "code",
   "execution_count": 11,
   "metadata": {},
   "outputs": [
    {
     "data": {
      "image/jpeg": "[encoded data removed]",
      "text/html": [
       "\n",
       "        <iframe\n",
       "            width=\"400\"\n",
       "            height=\"300\"\n",
       "            src=\"https://www.youtube.com/embed/ddbxFi3-UO4?start=1\"\n",
       "            frameborder=\"0\"\n",
       "            allowfullscreen\n",
       "        ></iframe>\n",
       "        "
      ],
      "text/plain": [
       "<IPython.lib.display.YouTubeVideo at 0x7ff2709366d0>"
      ]
     },
     "metadata": {},
     "output_type": "display_data"
    }
   ],
   "source": [
    "ipd.display(ipd.YouTubeVideo('ddbxFi3-UO4', start=1))"
   ]
  },
  {
   "cell_type": "markdown",
   "metadata": {},
   "source": [
    "As you can see from the above video, there are many instruments which are being played at the same time - which are represented by different colors respectively. Such kind of music is called **POLYPHONIC**. It becomes difficult to do automatic transcription of this music type since it is hard to keep track of which note was played by which instrument. This is one of the major challenges that we will have to see during the implementation of our project."
   ]
  },
  {
   "cell_type": "markdown",
   "metadata": {},
   "source": [
    "## Question 2 ##\n",
    "\n",
    "In the given CSV file, each note event corresponds to a line encoding a data record consisting of the four parameters start, duration, pitch, velocity, and label. The first four parameters are real numbers and encode the start, duration, pitch (encoded as MIDI note number), and velocity (in the range between 0.0 and 1.0) of a note event. The last parameter label is a string that my encode further information such as the instrument (e.g. violin, guitar, flute), or some staff information (e.g. left/right hand for a piano score).\n",
    "\n"
   ]
  },
  {
   "cell_type": "code",
   "execution_count": 16,
   "metadata": {},
   "outputs": [
    {
     "name": "stdout",
     "output_type": "stream",
     "text": [
      "0.25,0.23,67,1,Right Hand\n",
      "0.25,0.23,55,1,Right Hand\n",
      "0.25,0.23,43,1,Left Hand\n",
      "0.5,0.23,67,1,Right Hand\n",
      "0.5,0.23,55,1,Right Hand\n",
      "0.5,0.23,43,1,Left Hand\n",
      "0.75,0.23,67,1,Right Hand\n",
      "0.75,0.23,55,1,Right Hand\n",
      "0.75,0.23,43,1,Left Hand\n",
      "1,0.97,63,1,Right Hand\n",
      "1,0.97,51,1,Right Hand\n",
      "1,0.97,39,1,Left Hand\n",
      "2.25,0.23,65,1,Right Hand\n",
      "2.25,0.23,53,1,Right Hand\n",
      "2.25,0.23,41,1,Left Hand\n",
      "2.5,0.23,65,1,Right Hand\n",
      "2.5,0.23,53,1,Right Hand\n",
      "2.5,0.23,41,1,Left Hand\n",
      "2.75,0.23,65,1,Right Hand\n",
      "2.75,0.23,53,1,Right Hand\n",
      "2.75,0.23,41,1,Left Hand\n",
      "3,1.97,62,1,Right Hand\n",
      "3,1.97,50,1,Left Hand\n",
      "3,1.97,38,1,Left Hand\n",
      "\n"
     ]
    }
   ],
   "source": [
    "import csv\n",
    "import numpy as np\n",
    "from matplotlib import pyplot as plt\n",
    "from matplotlib import patches\n",
    "import pandas as pd\n",
    "import IPython.display as ipd\n",
    "\n",
    "with open('MUSIC_notes.csv', 'r') as file:\n",
    "    reader = csv.reader(file)\n",
    "    for row in reader:\n",
    "        csv_str = file.read()\n",
    "print(csv_str)"
   ]
  },
  {
   "cell_type": "markdown",
   "metadata": {},
   "source": [
    "The note events stored in the CSV file can be visualized using a **piano-roll representation**. Complete the following function to illustrate how this may be done.\n",
    "\n",
    "You can use Pandas library for better visualization. You are free to use as many libraries as you want. You might not be aware of powers of python which you will might have to use to do this question, but you can always google and learn them as per your requirements. :)\n",
    "\n",
    "The final output should look like this :\n",
    "    \n",
    "\n",
    "<img src=\"piano.png\" width=\"600\"/>\n"
   ]
  },
  {
   "cell_type": "code",
   "execution_count": null,
   "metadata": {},
   "outputs": [],
   "source": [
    "def convert_to_piano_roll():\n",
    "    # complete the function\n",
    "    # You can create more functions, if you need to.\n",
    "    "
   ]
  },
  {
   "cell_type": "markdown",
   "metadata": {},
   "source": [
    "## PrettyMIDI ##\n",
    "\n",
    "MIDI is another important music transcription. **[PrettyMIDI](https://github.com/craffel/pretty-midi)** is an important Python library for MIDI visualization, manipulation and interpretation. Read more about this library since it will be very useful for our project. \n"
   ]
  },
  {
   "cell_type": "markdown",
   "metadata": {},
   "source": [
    "## Question 3 ##\n",
    "\n",
    "Download any MIDI file from the internet and copy it to the same directory as that of this notebook. \n",
    "Dig deeper into PrettyMIDI and try to visualise the MIDI file in a form of table consisting of easy to understand notes events. Basically, you will have to convert the standard MIDI data into a standard python list using PrettyMIDI and display the events in the form of table with each event described by the parameters : Start, End, Pitch, Velocity and the Instrument. You can show the final output using Pandas Dataframe as well. \n"
   ]
  },
  {
   "cell_type": "code",
   "execution_count": 21,
   "metadata": {},
   "outputs": [],
   "source": [
    "## QUESTION 3 IS SUPPOSED TO BE DONE HERE"
   ]
  },
  {
   "cell_type": "markdown",
   "metadata": {},
   "source": [
    "These questions might be difficult for you, considering you have no Python experience. But it is the time to finally learn this language properly. You do not need to do brain storming in any question since these questions demand simple implementation of whatever you have learnt in the chapter 1 of music representations. \n",
    "So, with little efforts, you can easily solve the assignment. ALL THE BEST!\n",
    "In case you have any doubts, feel free to discuss on Discord channel. "
   ]
  }
 ],
 "metadata": {
  "kernelspec": {
   "display_name": "Python 3",
   "language": "python",
   "name": "python3"
  },
  "language_info": {
   "codemirror_mode": {
    "name": "ipython",
    "version": 3
   },
   "file_extension": ".py",
   "mimetype": "text/x-python",
   "name": "python",
   "nbconvert_exporter": "python",
   "pygments_lexer": "ipython3",
   "version": "3.7.6"
  }
 },
 "nbformat": 4,
 "nbformat_minor": 4
}
